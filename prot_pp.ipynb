{
 "cells": [
  {
   "cell_type": "code",
   "execution_count": 1,
   "metadata": {},
   "outputs": [],
   "source": [
    "from typing import Optional, Iterable, Tuple, Union\n",
    "from numbers import Integral, Real\n",
    "from warnings import warn\n",
    "\n",
    "import numpy as np\n",
    "import pandas as pd\n",
    "from scipy.sparse import issparse, csc_matrix, csr_matrix\n",
    "from sklearn.mixture import GaussianMixture\n",
    "from sklearn.decomposition import PCA\n",
    "from sklearn.linear_model import LinearRegression\n",
    "from anndata import AnnData"
   ]
  },
  {
   "cell_type": "code",
   "execution_count": 9,
   "metadata": {},
   "outputs": [],
   "source": [
    "def dsb_norm(\n",
    "    protein_profile: Union[AnnData, pd.DataFrame],\n",
    "    rna_profile: Union[AnnData, pd.DataFrame],\n",
    "    pseudocount: Integral = 10,\n",
    "    denoise_counts: bool = True,\n",
    "    isotype_controls: Optional[Iterable[str]] = None,\n",
    "    empty_counts_range: Tuple[Real, Real] = (0, 0.1),\n",
    "    cell_counts_range: Tuple[Real, Real] = (0.1, 0.9),\n",
    "    add_layer: bool = False,\n",
    "    random_state: Optional[Union[int, np.random.RandomState, None]] = None,\n",
    "    ) -> Union[AnnData, pd.DataFrame, None]:\n",
    "    \"\"\"\n",
    "    Normalize the protein profile using dsb method\n",
    "    Args:\n",
    "        protein_profile: protein profile\n",
    "        rna_profile: rna profile\n",
    "        pseudocount: pseudocount to add to the protein profile\n",
    "        denoise_counts: whether to denoise the protein profile\n",
    "        isotype_controls: names of isotype controls. If None, it wont be used\n",
    "        add_layer: whether to add the normalized protein profile to the adata object\n",
    "        random_state: random seed\n",
    "    Returns:\n",
    "        normalized protein profile\n",
    "    \"\"\"\n",
    "    # check the empty cells\n",
    "    if max(*empty_counts_range) > min(*cell_counts_range):\n",
    "        raise ValueError(\"empty_counts_range should be smaller than cell_counts_range\")\n",
    "    if protein_profile.shape[0] != rna_profile.shape[0]:\n",
    "        raise ValueError(\"protein_profile and rna_profile should have the same number of cells\")\n",
    "    if type(protein_profile) == pd.DataFrame:\n",
    "        protein_matrix = protein_profile.values\n",
    "    if type(rna_profile) == pd.DataFrame:\n",
    "        rna_matrix = rna_profile.values\n",
    "\n",
    "    log10umi = np.log10(rna_matrix.sum(axis=1).squeeze() + 1)\n",
    "    empty_idx = np.where(\n",
    "        (log10umi >= min(*empty_counts_range)) & (log10umi <= max(*empty_counts_range))\n",
    "    )[0]\n",
    "    cell_idx = np.where(\n",
    "        (log10umi >= min(*cell_counts_range)) & (log10umi <= max(*cell_counts_range))\n",
    "    )[0]\n",
    "    cellidx = protein_profile.index[cell_idx]\n",
    "    empty = protein_profile.iloc[empty_idx, :]\n",
    "    protein_profile = protein_profile.iloc[cell_idx, :]\n",
    "    protein_matrix = protein_matrix[cell_idx, :]\n",
    "\n",
    "    if pseudocount < 0:\n",
    "        raise ValueError(\"pseudocount should be larger than 0\")\n",
    "\n",
    "    empty_scaled = np.log(empty + pseudocount)\n",
    "    cells_scaled = np.log(protein_profile + pseudocount)\n",
    "    cells_scaled = (cells_scaled - empty_scaled.mean(axis=0)) / empty_scaled.std(axis=0)\n",
    "\n",
    "    if denoise_counts:\n",
    "        background_means = np.empty(cells_scaled.shape[0], np.float32)\n",
    "        # init_params needs to be random, otherwise fitted variance for one of the n_components somestimes is 0\n",
    "        shared_var = GaussianMixture(n_components=2, covariance_type=\"tied\", init_params=\"random\", random_state=random_state)\n",
    "        separate_var = GaussianMixture(n_components=2, covariance_type=\"full\", init_params=\"random\", random_state=random_state)\n",
    "        for cell in range(cells_scaled.shape[0]):\n",
    "            shared_var.fit(cells_scaled[cell, :, np.newaxis])\n",
    "            separate_var.fit(cells_scaled[cell, :, np.newaxis])\n",
    "            \n",
    "            if shared_var.bic(cells_scaled[cell, :, np.newaxis]) < separate_var.bic(cells_scaled[cell, :, np.newaxis]):\n",
    "                background_means[cell] = shared_var.means_[0]\n",
    "            else:\n",
    "                background_means[cell] = shared_var.means_[1]\n",
    "        \n",
    "        if isotype_controls is not None:\n",
    "            pca = PCA(n_components=1, whiten=True)\n",
    "            ctrl_idx = np.where(protein_profile.columns.isin(set(isotype_controls)))[0]\n",
    "            if len(ctrl_idx) < len(isotype_controls):\n",
    "                warn(\"Some isotype controls are not in the protein profile\")\n",
    "            covar = pca.fit_transform(np.hstack((cells_scaled[:, ctrl_idx], background_means.reshape(-1, 1))))\n",
    "        else:\n",
    "            covar = background_means[:, np.newaxis]\n",
    "        \n",
    "        reg = LinearRegression(fit_intercept=True, copy_X=False)\n",
    "        reg.fit(covar, cells_scaled)\n",
    "\n",
    "        cells_scaled -= reg.predict(covar) - reg.intercept_\n",
    "    if add_layer:\n",
    "        protein_profile.layers[\"dsb\"] = cells_scaled\n",
    "    else:\n",
    "        protein_profile = cells_scaled\n",
    "    return protein_profile"
   ]
  },
  {
   "cell_type": "code",
   "execution_count": 8,
   "metadata": {},
   "outputs": [
    {
     "data": {
      "text/plain": [
       "(25, 1)"
      ]
     },
     "execution_count": 8,
     "metadata": {},
     "output_type": "execute_result"
    }
   ],
   "source": [
    "np.arange(0, 5, 0.1).reshape(2,-1)[1, :, np.newaxis].shape # extract one layer and flatten the array into a 1D array, each row is a 1D array\n",
    "# np.arange(0, 5, 0.1).reshape(2,-1)\n"
   ]
  }
 ],
 "metadata": {
  "kernelspec": {
   "display_name": "torch",
   "language": "python",
   "name": "python3"
  },
  "language_info": {
   "codemirror_mode": {
    "name": "ipython",
    "version": 3
   },
   "file_extension": ".py",
   "mimetype": "text/x-python",
   "name": "python",
   "nbconvert_exporter": "python",
   "pygments_lexer": "ipython3",
   "version": "3.10.8"
  },
  "orig_nbformat": 4,
  "vscode": {
   "interpreter": {
    "hash": "b9a3d897ef0b1e7415fe4468808571913e41281b79a56511723d411ccb064e7b"
   }
  }
 },
 "nbformat": 4,
 "nbformat_minor": 2
}
