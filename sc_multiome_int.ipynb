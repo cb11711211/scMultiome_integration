{
 "cells": [
  {
   "cell_type": "code",
   "execution_count": 5,
   "metadata": {},
   "outputs": [],
   "source": [
    "import os\n",
    "import pandas as pd\n",
    "import numpy as np\n",
    "import sklearn\n",
    "import h5py\n",
    "import scanpy as sc\n",
    "import anndata\n",
    "import gc\n",
    "import pickle"
   ]
  },
  {
   "cell_type": "code",
   "execution_count": 9,
   "metadata": {},
   "outputs": [],
   "source": [
    "from sklearn.base import BaseEstimator, TransformerMixin\n",
    "from sklearn.model_selection import KFold\n",
    "from sklearn.preprocessing import StandardScaler, scale\n",
    "from sklearn.decomposition import PCA\n",
    "from sklearn.dummy import DummyRegressor\n",
    "from sklearn.pipeline import make_pipeline, Pipeline\n",
    "from sklearn.linear_model import Ridge\n",
    "from sklearn.linear_model import Lasso\n",
    "from sklearn.multioutput import MultiOutputRegressor\n",
    "import lightgbm as lgb\n",
    "from sklearn.compose import TransformedTargetRegressor\n",
    "from sklearn.metrics import mean_squared_error"
   ]
  },
  {
   "cell_type": "code",
   "execution_count": 10,
   "metadata": {},
   "outputs": [],
   "source": [
    "# %pip install scanpy\n",
    "# %pip install anndata\n",
    "# %pip install lightgbm"
   ]
  },
  {
   "cell_type": "markdown",
   "metadata": {},
   "source": [
    "# Load data "
   ]
  },
  {
   "cell_type": "code",
   "execution_count": 3,
   "metadata": {},
   "outputs": [],
   "source": [
    "DATA_DIR = \"/home/wuxc/data/open_multiome_compete/data/\"\n",
    "CELL_METADATA = os.path.join(DATA_DIR, \"metadata.csv\")\n",
    "CITE_TRAIN_INPUTS = os.path.join(DATA_DIR, \"train_cite_inputs.h5\")\n",
    "CITE_TRAIN_TARGETS = os.path.join(DATA_DIR, \"train_cite_targets.h5\")\n",
    "CITE_TEST_INPUTS = os.path.join(DATA_DIR, \"test_cite_inputs.h5\")\n",
    "\n",
    "MULTIOME_TRAIN_INPUTS = os.path.join(DATA_DIR, \"train_multi_inputs.h5\")\n",
    "MULTIOME_TRAIN_TARGETS = os.path.join(DATA_DIR, \"train_multi_targets.h5\")\n",
    "MULTIOME_TEST_INPUTS = os.path.join(DATA_DIR, \"test_multi_inputs.h5\")\n",
    "\n",
    "SUBMISSION = os.path.join(DATA_DIR, \"sample_submission.csv\")\n",
    "EVALUATION_IDS = os.path.join(DATA_DIR, \"evaluation_ids.csv\")"
   ]
  },
  {
   "cell_type": "code",
   "execution_count": 4,
   "metadata": {},
   "outputs": [
    {
     "data": {
      "text/plain": [
       "((119651, 5), (161877, 5))"
      ]
     },
     "execution_count": 4,
     "metadata": {},
     "output_type": "execute_result"
    }
   ],
   "source": [
    "df_cell = pd.read_csv(CELL_METADATA)\n",
    "df_cell_cite = df_cell[df_cell.technology==\"citeseq\"]\n",
    "df_cell_multi = df_cell[df_cell.technology==\"multiome\"]\n",
    "df_cell_cite.shape, df_cell_multi.shape"
   ]
  },
  {
   "cell_type": "markdown",
   "metadata": {},
   "source": [
    "# Preprocess for CITEseq"
   ]
  },
  {
   "cell_type": "code",
   "execution_count": null,
   "metadata": {},
   "outputs": [],
   "source": [
    "%%time\n",
    "\n",
    "col_start = 10000\n",
    "\n",
    "class PreprocessCiteseq(BaseEstimator, TransformerMixin):\n",
    "    columns_to_use = 13000\n",
    "\n",
    "    @staticmethod\n",
    "    def take_columnn_subset(X):\n",
    "        return X[:, -(PreprocessCiteseq.columns_to_use + col_start):-col_start]\n",
    "    \n",
    "    def transform(self, X):\n",
    "        print(X.shape)\n",
    "        X = X[:, ~self.all_zero_columns]\n",
    "        print(X.shape)\n",
    "        X = PreprocessCiteseq.take_column_subset(X)\n",
    "        print(X.shape)\n",
    "        gc.collect()\n",
    "        "
   ]
  },
  {
   "cell_type": "code",
   "execution_count": null,
   "metadata": {},
   "outputs": [],
   "source": []
  },
  {
   "cell_type": "code",
   "execution_count": null,
   "metadata": {},
   "outputs": [],
   "source": []
  }
 ],
 "metadata": {
  "kernelspec": {
   "display_name": "Python 3.8.5 ('base')",
   "language": "python",
   "name": "python3"
  },
  "language_info": {
   "codemirror_mode": {
    "name": "ipython",
    "version": 3
   },
   "file_extension": ".py",
   "mimetype": "text/x-python",
   "name": "python",
   "nbconvert_exporter": "python",
   "pygments_lexer": "ipython3",
   "version": "3.8.5"
  },
  "orig_nbformat": 4,
  "vscode": {
   "interpreter": {
    "hash": "572335ad3da9c77a4135952a92effa558a40d2f4eaa654bf4ee2808539357962"
   }
  }
 },
 "nbformat": 4,
 "nbformat_minor": 2
}
